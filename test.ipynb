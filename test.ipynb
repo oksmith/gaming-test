{
 "cells": [
  {
   "cell_type": "code",
   "execution_count": 1,
   "metadata": {},
   "outputs": [],
   "source": [
    "%load_ext autoreload\n",
    "%autoreload 2"
   ]
  },
  {
   "cell_type": "code",
   "execution_count": 15,
   "metadata": {},
   "outputs": [],
   "source": [
    "import warnings\n",
    "warnings.filterwarnings(\"ignore\", category=DeprecationWarning)"
   ]
  },
  {
   "cell_type": "code",
   "execution_count": 16,
   "metadata": {},
   "outputs": [],
   "source": [
    "import pandas as pd \n",
    "\n",
    "data = pd.read_csv(\"points.csv\")"
   ]
  },
  {
   "cell_type": "code",
   "execution_count": 17,
   "metadata": {},
   "outputs": [],
   "source": [
    "from src.points import *"
   ]
  },
  {
   "cell_type": "code",
   "execution_count": 18,
   "metadata": {},
   "outputs": [],
   "source": [
    "playing_field = PlayingField()"
   ]
  },
  {
   "cell_type": "code",
   "execution_count": 19,
   "metadata": {},
   "outputs": [],
   "source": [
    "for i, row in data.iterrows():\n",
    "    playing_field.add_point(\n",
    "        Point(\n",
    "            playing_field=playing_field,\n",
    "            position=(int(row[\"X\"]), int(row[\"Y\"])),\n",
    "            direction=row[\"Direction\"],\n",
    "            id=row[\"Number\"],\n",
    "        )\n",
    "    )"
   ]
  },
  {
   "cell_type": "code",
   "execution_count": 20,
   "metadata": {},
   "outputs": [
    {
     "name": "stdout",
     "output_type": "stream",
     "text": [
      "1: Position (28, 42), Direction (0, 1)\n",
      "2: Position (27, 46), Direction (1, 0)\n",
      "3: Position (16, 22), Direction (0, -1)\n",
      "4: Position (40, 50), Direction (-1, 0)\n",
      "5: Position (8, 6), Direction (0, 1)\n",
      "6: Position (6, 19), Direction (1, 0)\n",
      "7: Position (28, 5), Direction (0, -1)\n",
      "8: Position (39, 36), Direction (-1, 0)\n",
      "9: Position (12, 34), Direction (0, 1)\n",
      "10: Position (36, 20), Direction (1, 0)\n",
      "11: Position (22, 47), Direction (0, -1)\n",
      "12: Position (33, 19), Direction (-1, 0)\n",
      "13: Position (41, 18), Direction (0, 1)\n",
      "14: Position (41, 34), Direction (1, 0)\n",
      "15: Position (14, 29), Direction (0, -1)\n",
      "16: Position (6, 49), Direction (-1, 0)\n",
      "17: Position (46, 50), Direction (0, 1)\n",
      "18: Position (17, 40), Direction (1, 0)\n",
      "19: Position (28, 26), Direction (0, -1)\n",
      "20: Position (2, 12), Direction (-1, 0)\n"
     ]
    }
   ],
   "source": [
    "for point in playing_field.points:\n",
    "    print(f\"{point.id}: Position {point.position}, Direction {point.direction}\")"
   ]
  },
  {
   "cell_type": "code",
   "execution_count": null,
   "metadata": {},
   "outputs": [],
   "source": []
  },
  {
   "cell_type": "code",
   "execution_count": null,
   "metadata": {},
   "outputs": [],
   "source": []
  }
 ],
 "metadata": {
  "kernelspec": {
   "display_name": ".venv",
   "language": "python",
   "name": "python3"
  },
  "language_info": {
   "codemirror_mode": {
    "name": "ipython",
    "version": 3
   },
   "file_extension": ".py",
   "mimetype": "text/x-python",
   "name": "python",
   "nbconvert_exporter": "python",
   "pygments_lexer": "ipython3",
   "version": "3.11.0"
  }
 },
 "nbformat": 4,
 "nbformat_minor": 2
}
