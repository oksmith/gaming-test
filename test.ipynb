{
 "cells": [
  {
   "cell_type": "code",
   "execution_count": 54,
   "metadata": {},
   "outputs": [
    {
     "name": "stdout",
     "output_type": "stream",
     "text": [
      "The autoreload extension is already loaded. To reload it, use:\n",
      "  %reload_ext autoreload\n"
     ]
    }
   ],
   "source": [
    "%load_ext autoreload\n",
    "%autoreload 2"
   ]
  },
  {
   "cell_type": "code",
   "execution_count": 55,
   "metadata": {},
   "outputs": [],
   "source": [
    "import warnings\n",
    "warnings.filterwarnings(\"ignore\", category=DeprecationWarning)"
   ]
  },
  {
   "cell_type": "code",
   "execution_count": 56,
   "metadata": {},
   "outputs": [],
   "source": [
    "import pandas as pd \n",
    "\n",
    "data = pd.read_csv(\"points.csv\")"
   ]
  },
  {
   "cell_type": "code",
   "execution_count": 69,
   "metadata": {},
   "outputs": [],
   "source": [
    "from src.points import *"
   ]
  },
  {
   "cell_type": "code",
   "execution_count": 70,
   "metadata": {},
   "outputs": [],
   "source": [
    "playing_field = PlayingField()"
   ]
  },
  {
   "cell_type": "code",
   "execution_count": 71,
   "metadata": {},
   "outputs": [],
   "source": [
    "for i, row in data.iterrows():\n",
    "    playing_field.add_point(\n",
    "        Point(\n",
    "            playing_field=playing_field,\n",
    "            position=(int(row[\"X\"]), int(row[\"Y\"])),\n",
    "            direction=row[\"Direction\"],\n",
    "            id=row[\"Number\"],\n",
    "        )\n",
    "    )"
   ]
  },
  {
   "cell_type": "code",
   "execution_count": 72,
   "metadata": {},
   "outputs": [
    {
     "name": "stdout",
     "output_type": "stream",
     "text": [
      "1: Position [28 42], Direction [0 1]\n",
      "2: Position [27 46], Direction [1 0]\n",
      "3: Position [16 22], Direction [ 0 -1]\n",
      "4: Position [40 50], Direction [-1  0]\n",
      "5: Position [8 6], Direction [0 1]\n",
      "6: Position [ 6 19], Direction [1 0]\n",
      "7: Position [28  5], Direction [ 0 -1]\n",
      "8: Position [39 36], Direction [-1  0]\n",
      "9: Position [12 34], Direction [0 1]\n",
      "10: Position [36 20], Direction [1 0]\n",
      "11: Position [22 47], Direction [ 0 -1]\n",
      "12: Position [33 19], Direction [-1  0]\n",
      "13: Position [41 18], Direction [0 1]\n",
      "14: Position [41 34], Direction [1 0]\n",
      "15: Position [14 29], Direction [ 0 -1]\n",
      "16: Position [ 6 49], Direction [-1  0]\n",
      "17: Position [46 50], Direction [0 1]\n",
      "18: Position [17 40], Direction [1 0]\n",
      "19: Position [28 26], Direction [ 0 -1]\n",
      "20: Position [ 2 12], Direction [-1  0]\n"
     ]
    }
   ],
   "source": [
    "for point in playing_field.points:\n",
    "    print(f\"{point.id}: Position {point.position}, Direction {point.direction}\")"
   ]
  },
  {
   "cell_type": "code",
   "execution_count": 76,
   "metadata": {},
   "outputs": [
    {
     "name": "stdout",
     "output_type": "stream",
     "text": [
      "Points [28 42] and [27 46]\n",
      "Distance: 4.123105625617661\n",
      "Relative position [-1  4]\n",
      "Relative angle: 104.03624346792648\n",
      "135.0 45.0\n"
     ]
    },
    {
     "data": {
      "text/plain": [
       "True"
      ]
     },
     "execution_count": 76,
     "metadata": {},
     "output_type": "execute_result"
    }
   ],
   "source": [
    "playing_field.points[0].in_cone(playing_field.points[1], 45, 20)"
   ]
  },
  {
   "cell_type": "code",
   "execution_count": 81,
   "metadata": {},
   "outputs": [
    {
     "name": "stdout",
     "output_type": "stream",
     "text": [
      "Points in the visible range of 1: [2]\n"
     ]
    }
   ],
   "source": [
    "visible_points = playing_field.visible_points(1, 45, 20)"
   ]
  },
  {
   "cell_type": "code",
   "execution_count": 82,
   "metadata": {},
   "outputs": [
    {
     "name": "stdout",
     "output_type": "stream",
     "text": [
      "Points in the visible range of 2: []\n"
     ]
    }
   ],
   "source": [
    "visible_points = playing_field.visible_points(2, 45, 20)"
   ]
  },
  {
   "cell_type": "code",
   "execution_count": 83,
   "metadata": {},
   "outputs": [
    {
     "name": "stdout",
     "output_type": "stream",
     "text": [
      "Points in the visible range of 3: [5]\n"
     ]
    }
   ],
   "source": [
    "visible_points = playing_field.visible_points(3, 45, 20)"
   ]
  },
  {
   "cell_type": "code",
   "execution_count": 84,
   "metadata": {},
   "outputs": [
    {
     "name": "stdout",
     "output_type": "stream",
     "text": [
      "Points in the visible range of 4: [1, 2, 11]\n"
     ]
    }
   ],
   "source": [
    "visible_points = playing_field.visible_points(4, 45, 20)"
   ]
  },
  {
   "cell_type": "code",
   "execution_count": null,
   "metadata": {},
   "outputs": [],
   "source": []
  }
 ],
 "metadata": {
  "kernelspec": {
   "display_name": ".venv",
   "language": "python",
   "name": "python3"
  },
  "language_info": {
   "codemirror_mode": {
    "name": "ipython",
    "version": 3
   },
   "file_extension": ".py",
   "mimetype": "text/x-python",
   "name": "python",
   "nbconvert_exporter": "python",
   "pygments_lexer": "ipython3",
   "version": "3.11.0"
  }
 },
 "nbformat": 4,
 "nbformat_minor": 2
}
